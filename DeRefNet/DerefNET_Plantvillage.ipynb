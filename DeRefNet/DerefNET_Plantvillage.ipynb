{
  "nbformat": 4,
  "nbformat_minor": 0,
  "metadata": {
    "colab": {
      "provenance": [],
      "gpuType": "T4"
    },
    "kernelspec": {
      "name": "python3",
      "display_name": "Python 3"
    },
    "language_info": {
      "name": "python"
    },
    "accelerator": "GPU"
  },
  "cells": [
    {
      "cell_type": "code",
      "execution_count": null,
      "metadata": {
        "id": "OuotxTKbgFq_"
      },
      "outputs": [],
      "source": [
        "import tensorflow as tf\n",
        "from tensorflow.keras.layers import (Input, Conv2D, MaxPooling2D, AveragePooling2D,\n",
        "                                   GlobalAveragePooling2D, BatchNormalization,\n",
        "                                   Activation, Add, Concatenate, Dense, Dropout,\n",
        "                                   Multiply, Reshape, Permute)\n",
        "from tensorflow.keras.models import Model\n",
        "from sklearn.model_selection import train_test_split\n",
        "from tensorflow import keras\n",
        "from tensorflow.keras import layers, models"
      ]
    },
    {
      "cell_type": "code",
      "source": [
        "# 1. Upload kaggle.json file\n",
        "from google.colab import files\n",
        "files.upload()  # Upload kaggle.json here\n",
        "\n",
        "# 2. Make directory and move kaggle.json\n",
        "!mkdir -p ~/.kaggle\n",
        "!cp kaggle.json ~/.kaggle/\n",
        "!chmod 600 ~/.kaggle/kaggle.json\n",
        "\n",
        "# 3. Install kaggle package if not installed\n",
        "!pip install kaggle\n",
        "\n",
        "# 4. Download PlantVillage dataset\n",
        "# Dataset URL on Kaggle: https://www.kaggle.com/datasets/emmarex/plantdisease\n",
        "\n",
        "!kaggle datasets download -d abdallahalidev/plantvillage-dataset\n",
        "!unzip -q plantvillage-dataset.zip -d /content/plantvillage\n",
        "\n",
        "# 6. List extracted folders and files\n",
        "!ls /content/plantvillage/plantvillage dataset\n",
        "\n"
      ],
      "metadata": {
        "colab": {
          "base_uri": "https://localhost:8080/",
          "height": 474
        },
        "id": "acM-DdmtgTP6",
        "outputId": "fefd0691-4c4b-4a7a-d79c-33ff40af0b57"
      },
      "execution_count": null,
      "outputs": [
        {
          "output_type": "display_data",
          "data": {
            "text/plain": [
              "<IPython.core.display.HTML object>"
            ],
            "text/html": [
              "\n",
              "     <input type=\"file\" id=\"files-2890b6ad-e4db-4d19-a75e-9edccf338361\" name=\"files[]\" multiple disabled\n",
              "        style=\"border:none\" />\n",
              "     <output id=\"result-2890b6ad-e4db-4d19-a75e-9edccf338361\">\n",
              "      Upload widget is only available when the cell has been executed in the\n",
              "      current browser session. Please rerun this cell to enable.\n",
              "      </output>\n",
              "      <script>// Copyright 2017 Google LLC\n",
              "//\n",
              "// Licensed under the Apache License, Version 2.0 (the \"License\");\n",
              "// you may not use this file except in compliance with the License.\n",
              "// You may obtain a copy of the License at\n",
              "//\n",
              "//      http://www.apache.org/licenses/LICENSE-2.0\n",
              "//\n",
              "// Unless required by applicable law or agreed to in writing, software\n",
              "// distributed under the License is distributed on an \"AS IS\" BASIS,\n",
              "// WITHOUT WARRANTIES OR CONDITIONS OF ANY KIND, either express or implied.\n",
              "// See the License for the specific language governing permissions and\n",
              "// limitations under the License.\n",
              "\n",
              "/**\n",
              " * @fileoverview Helpers for google.colab Python module.\n",
              " */\n",
              "(function(scope) {\n",
              "function span(text, styleAttributes = {}) {\n",
              "  const element = document.createElement('span');\n",
              "  element.textContent = text;\n",
              "  for (const key of Object.keys(styleAttributes)) {\n",
              "    element.style[key] = styleAttributes[key];\n",
              "  }\n",
              "  return element;\n",
              "}\n",
              "\n",
              "// Max number of bytes which will be uploaded at a time.\n",
              "const MAX_PAYLOAD_SIZE = 100 * 1024;\n",
              "\n",
              "function _uploadFiles(inputId, outputId) {\n",
              "  const steps = uploadFilesStep(inputId, outputId);\n",
              "  const outputElement = document.getElementById(outputId);\n",
              "  // Cache steps on the outputElement to make it available for the next call\n",
              "  // to uploadFilesContinue from Python.\n",
              "  outputElement.steps = steps;\n",
              "\n",
              "  return _uploadFilesContinue(outputId);\n",
              "}\n",
              "\n",
              "// This is roughly an async generator (not supported in the browser yet),\n",
              "// where there are multiple asynchronous steps and the Python side is going\n",
              "// to poll for completion of each step.\n",
              "// This uses a Promise to block the python side on completion of each step,\n",
              "// then passes the result of the previous step as the input to the next step.\n",
              "function _uploadFilesContinue(outputId) {\n",
              "  const outputElement = document.getElementById(outputId);\n",
              "  const steps = outputElement.steps;\n",
              "\n",
              "  const next = steps.next(outputElement.lastPromiseValue);\n",
              "  return Promise.resolve(next.value.promise).then((value) => {\n",
              "    // Cache the last promise value to make it available to the next\n",
              "    // step of the generator.\n",
              "    outputElement.lastPromiseValue = value;\n",
              "    return next.value.response;\n",
              "  });\n",
              "}\n",
              "\n",
              "/**\n",
              " * Generator function which is called between each async step of the upload\n",
              " * process.\n",
              " * @param {string} inputId Element ID of the input file picker element.\n",
              " * @param {string} outputId Element ID of the output display.\n",
              " * @return {!Iterable<!Object>} Iterable of next steps.\n",
              " */\n",
              "function* uploadFilesStep(inputId, outputId) {\n",
              "  const inputElement = document.getElementById(inputId);\n",
              "  inputElement.disabled = false;\n",
              "\n",
              "  const outputElement = document.getElementById(outputId);\n",
              "  outputElement.innerHTML = '';\n",
              "\n",
              "  const pickedPromise = new Promise((resolve) => {\n",
              "    inputElement.addEventListener('change', (e) => {\n",
              "      resolve(e.target.files);\n",
              "    });\n",
              "  });\n",
              "\n",
              "  const cancel = document.createElement('button');\n",
              "  inputElement.parentElement.appendChild(cancel);\n",
              "  cancel.textContent = 'Cancel upload';\n",
              "  const cancelPromise = new Promise((resolve) => {\n",
              "    cancel.onclick = () => {\n",
              "      resolve(null);\n",
              "    };\n",
              "  });\n",
              "\n",
              "  // Wait for the user to pick the files.\n",
              "  const files = yield {\n",
              "    promise: Promise.race([pickedPromise, cancelPromise]),\n",
              "    response: {\n",
              "      action: 'starting',\n",
              "    }\n",
              "  };\n",
              "\n",
              "  cancel.remove();\n",
              "\n",
              "  // Disable the input element since further picks are not allowed.\n",
              "  inputElement.disabled = true;\n",
              "\n",
              "  if (!files) {\n",
              "    return {\n",
              "      response: {\n",
              "        action: 'complete',\n",
              "      }\n",
              "    };\n",
              "  }\n",
              "\n",
              "  for (const file of files) {\n",
              "    const li = document.createElement('li');\n",
              "    li.append(span(file.name, {fontWeight: 'bold'}));\n",
              "    li.append(span(\n",
              "        `(${file.type || 'n/a'}) - ${file.size} bytes, ` +\n",
              "        `last modified: ${\n",
              "            file.lastModifiedDate ? file.lastModifiedDate.toLocaleDateString() :\n",
              "                                    'n/a'} - `));\n",
              "    const percent = span('0% done');\n",
              "    li.appendChild(percent);\n",
              "\n",
              "    outputElement.appendChild(li);\n",
              "\n",
              "    const fileDataPromise = new Promise((resolve) => {\n",
              "      const reader = new FileReader();\n",
              "      reader.onload = (e) => {\n",
              "        resolve(e.target.result);\n",
              "      };\n",
              "      reader.readAsArrayBuffer(file);\n",
              "    });\n",
              "    // Wait for the data to be ready.\n",
              "    let fileData = yield {\n",
              "      promise: fileDataPromise,\n",
              "      response: {\n",
              "        action: 'continue',\n",
              "      }\n",
              "    };\n",
              "\n",
              "    // Use a chunked sending to avoid message size limits. See b/62115660.\n",
              "    let position = 0;\n",
              "    do {\n",
              "      const length = Math.min(fileData.byteLength - position, MAX_PAYLOAD_SIZE);\n",
              "      const chunk = new Uint8Array(fileData, position, length);\n",
              "      position += length;\n",
              "\n",
              "      const base64 = btoa(String.fromCharCode.apply(null, chunk));\n",
              "      yield {\n",
              "        response: {\n",
              "          action: 'append',\n",
              "          file: file.name,\n",
              "          data: base64,\n",
              "        },\n",
              "      };\n",
              "\n",
              "      let percentDone = fileData.byteLength === 0 ?\n",
              "          100 :\n",
              "          Math.round((position / fileData.byteLength) * 100);\n",
              "      percent.textContent = `${percentDone}% done`;\n",
              "\n",
              "    } while (position < fileData.byteLength);\n",
              "  }\n",
              "\n",
              "  // All done.\n",
              "  yield {\n",
              "    response: {\n",
              "      action: 'complete',\n",
              "    }\n",
              "  };\n",
              "}\n",
              "\n",
              "scope.google = scope.google || {};\n",
              "scope.google.colab = scope.google.colab || {};\n",
              "scope.google.colab._files = {\n",
              "  _uploadFiles,\n",
              "  _uploadFilesContinue,\n",
              "};\n",
              "})(self);\n",
              "</script> "
            ]
          },
          "metadata": {}
        },
        {
          "output_type": "stream",
          "name": "stdout",
          "text": [
            "Saving kaggle.json to kaggle.json\n",
            "Requirement already satisfied: kaggle in /usr/local/lib/python3.11/dist-packages (1.7.4.5)\n",
            "Requirement already satisfied: bleach in /usr/local/lib/python3.11/dist-packages (from kaggle) (6.2.0)\n",
            "Requirement already satisfied: certifi>=14.05.14 in /usr/local/lib/python3.11/dist-packages (from kaggle) (2025.6.15)\n",
            "Requirement already satisfied: charset-normalizer in /usr/local/lib/python3.11/dist-packages (from kaggle) (3.4.2)\n",
            "Requirement already satisfied: idna in /usr/local/lib/python3.11/dist-packages (from kaggle) (3.10)\n",
            "Requirement already satisfied: protobuf in /usr/local/lib/python3.11/dist-packages (from kaggle) (5.29.5)\n",
            "Requirement already satisfied: python-dateutil>=2.5.3 in /usr/local/lib/python3.11/dist-packages (from kaggle) (2.9.0.post0)\n",
            "Requirement already satisfied: python-slugify in /usr/local/lib/python3.11/dist-packages (from kaggle) (8.0.4)\n",
            "Requirement already satisfied: requests in /usr/local/lib/python3.11/dist-packages (from kaggle) (2.32.3)\n",
            "Requirement already satisfied: setuptools>=21.0.0 in /usr/local/lib/python3.11/dist-packages (from kaggle) (75.2.0)\n",
            "Requirement already satisfied: six>=1.10 in /usr/local/lib/python3.11/dist-packages (from kaggle) (1.17.0)\n",
            "Requirement already satisfied: text-unidecode in /usr/local/lib/python3.11/dist-packages (from kaggle) (1.3)\n",
            "Requirement already satisfied: tqdm in /usr/local/lib/python3.11/dist-packages (from kaggle) (4.67.1)\n",
            "Requirement already satisfied: urllib3>=1.15.1 in /usr/local/lib/python3.11/dist-packages (from kaggle) (2.4.0)\n",
            "Requirement already satisfied: webencodings in /usr/local/lib/python3.11/dist-packages (from kaggle) (0.5.1)\n",
            "Dataset URL: https://www.kaggle.com/datasets/abdallahalidev/plantvillage-dataset\n",
            "License(s): CC-BY-NC-SA-4.0\n",
            "Downloading plantvillage-dataset.zip to /content\n",
            " 99% 2.02G/2.04G [00:17<00:00, 261MB/s]\n",
            "100% 2.04G/2.04G [00:17<00:00, 123MB/s]\n",
            "ls: cannot access '/content/plantvillage/plantvillage': No such file or directory\n",
            "ls: cannot access 'dataset': No such file or directory\n"
          ]
        }
      ]
    },
    {
      "cell_type": "code",
      "source": [
        "import os\n",
        "\n",
        "print(os.listdir('/content/plantvillage/plantvillage dataset/color'))"
      ],
      "metadata": {
        "colab": {
          "base_uri": "https://localhost:8080/"
        },
        "id": "WwhaDPrtlrms",
        "outputId": "21693a27-d524-480f-e2e0-653a31c883db"
      },
      "execution_count": null,
      "outputs": [
        {
          "output_type": "stream",
          "name": "stdout",
          "text": [
            "['Strawberry___healthy', 'Corn_(maize)___Northern_Leaf_Blight', 'Tomato___Bacterial_spot', 'Corn_(maize)___Common_rust_', 'Tomato___Late_blight', 'Tomato___Early_blight', 'Soybean___healthy', 'Peach___Bacterial_spot', 'Strawberry___Leaf_scorch', 'Pepper,_bell___healthy', 'Apple___Black_rot', 'Tomato___Target_Spot', 'Tomato___Tomato_mosaic_virus', 'Cherry_(including_sour)___Powdery_mildew', 'Raspberry___healthy', 'Tomato___Tomato_Yellow_Leaf_Curl_Virus', 'Pepper,_bell___Bacterial_spot', 'Orange___Haunglongbing_(Citrus_greening)', 'Blueberry___healthy', 'Tomato___Septoria_leaf_spot', 'Grape___healthy', 'Peach___healthy', 'Apple___Cedar_apple_rust', 'Grape___Black_rot', 'Grape___Esca_(Black_Measles)', 'Tomato___healthy', 'Apple___healthy', 'Cherry_(including_sour)___healthy', 'Tomato___Leaf_Mold', 'Potato___Early_blight', 'Corn_(maize)___Cercospora_leaf_spot Gray_leaf_spot', 'Tomato___Spider_mites Two-spotted_spider_mite', 'Squash___Powdery_mildew', 'Potato___healthy', 'Corn_(maize)___healthy', 'Grape___Leaf_blight_(Isariopsis_Leaf_Spot)', 'Potato___Late_blight', 'Apple___Apple_scab']\n"
          ]
        }
      ]
    },
    {
      "cell_type": "code",
      "source": [
        "\n",
        "import tensorflow as tf\n",
        "\n",
        "dataset_train = tf.keras.preprocessing.image_dataset_from_directory(\n",
        "    '/content/plantvillage/plantvillage dataset/color',\n",
        "    validation_split=0.5,\n",
        "    subset=\"training\",\n",
        "    seed=123,\n",
        "    image_size=(64, 64),\n",
        "    batch_size=32,\n",
        ")\n",
        "\n",
        "dataset_val = tf.keras.preprocessing.image_dataset_from_directory(\n",
        "    '/content/plantvillage/plantvillage dataset/color',\n",
        "    validation_split=0.5,\n",
        "    subset=\"validation\",\n",
        "    seed=123,\n",
        "    image_size=(64, 64),\n",
        "    batch_size=32,\n",
        ")\n",
        "\n"
      ],
      "metadata": {
        "colab": {
          "base_uri": "https://localhost:8080/"
        },
        "id": "mUMc672UgsXZ",
        "outputId": "a6fb11d9-b661-4448-f3a8-0a98f08be164"
      },
      "execution_count": null,
      "outputs": [
        {
          "output_type": "stream",
          "name": "stdout",
          "text": [
            "Found 54305 files belonging to 38 classes.\n",
            "Using 27153 files for training.\n",
            "Found 54305 files belonging to 38 classes.\n",
            "Using 27152 files for validation.\n"
          ]
        }
      ]
    },
    {
      "cell_type": "code",
      "source": [
        "# Step 2: Normalize images\n",
        "normalization_layer = tf.keras.layers.Rescaling(1./255)\n",
        "train_ds = dataset_train.map(lambda x, y: (normalization_layer(x), y))\n",
        "val_ds = dataset_val.map(lambda x, y: (normalization_layer(x), y))"
      ],
      "metadata": {
        "id": "FEpSqErGog0E"
      },
      "execution_count": null,
      "outputs": []
    },
    {
      "cell_type": "code",
      "source": [
        "\n",
        "\n",
        "def simple_attention(x, reduction_ratio=8):\n",
        "    \"\"\"Simple Channel Attention Module for final outputs\"\"\"\n",
        "    # Only channel attention - lighter than CBAM\n",
        "    channel = x.shape[-1]\n",
        "\n",
        "    # Global Average Pooling\n",
        "    gap = GlobalAveragePooling2D()(x)\n",
        "    gap = layers.Reshape((1, 1, channel))(gap)\n",
        "\n",
        "    # Simple MLP with reduction\n",
        "    attention = layers.Dense(channel // reduction_ratio, activation='relu')(gap)\n",
        "    attention = layers.Dense(channel, activation='sigmoid')(attention)\n",
        "\n",
        "    # Apply attention\n",
        "    return Multiply()([x, attention])"
      ],
      "metadata": {
        "id": "34R35bFWg2ey"
      },
      "execution_count": null,
      "outputs": []
    },
    {
      "cell_type": "code",
      "source": [
        "\n",
        "def residual_block(x, filters, stride=1):\n",
        "    \"\"\"Residual block with optional stride\"\"\"\n",
        "    shortcut = x\n",
        "\n",
        "    x = Conv2D(filters, 3, strides=stride, padding=\"same\", use_bias=False)(x)\n",
        "    x = BatchNormalization()(x)\n",
        "    x = layers.ReLU()(x)\n",
        "\n",
        "    x = Conv2D(filters, 3, padding=\"same\", use_bias=False)(x)\n",
        "    x = BatchNormalization()(x)\n",
        "\n",
        "    # Adjust shortcut if needed\n",
        "    if stride != 1 or shortcut.shape[-1] != filters:\n",
        "        shortcut = Conv2D(filters, 1, strides=stride, use_bias=False)(shortcut)\n",
        "        shortcut = BatchNormalization()(shortcut)\n",
        "\n",
        "    x = Add()([x, shortcut])\n",
        "    x = layers.ReLU()(x)\n",
        "    return x\n",
        "def residual_block_group(x, filters, n_blocks, stride=1):\n",
        "    x = residual_block(x, filters, stride=stride)\n",
        "    for _ in range(1, n_blocks):\n",
        "        x = residual_block(x, filters, stride=1)\n",
        "    return x\n",
        "\n",
        "\n",
        "def dense_block(x, num_layers, growth_rate):\n",
        "    \"\"\"Dense block from DenseNet\"\"\"\n",
        "    concat_features = [x]\n",
        "\n",
        "    for _ in range(num_layers):\n",
        "        x = Concatenate()(concat_features)\n",
        "        out = BatchNormalization()(x)\n",
        "        out = Activation('relu')(out)\n",
        "        out = Conv2D(4 * growth_rate, (1, 1), padding='same', use_bias=False)(out)\n",
        "        out = BatchNormalization()(out)\n",
        "        out = Activation('relu')(out)\n",
        "        out = Conv2D(growth_rate, (3, 3), padding='same', use_bias=False)(out)\n",
        "        concat_features.append(out)\n",
        "\n",
        "    x = Concatenate()(concat_features)\n",
        "    return x\n",
        "\n",
        "def transition_layer(x):\n",
        "    \"\"\"Transition layer for DenseNet\"\"\"\n",
        "    x = BatchNormalization()(x)\n",
        "    x = Conv2D(x.shape[-1] // 2, (1, 1), padding='same', use_bias=False)(x)\n",
        "    x = AveragePooling2D(pool_size=(2, 2), strides=2)(x)\n",
        "    return x\n",
        "\n",
        "def gfa_residual_stream(input_tensor):\n",
        "    \"\"\"GFA Residual Stream with attention only on final output\"\"\"\n",
        "    x = Conv2D(64, 3, padding='same', use_bias=False)(input_tensor)\n",
        "    x = BatchNormalization()(x)\n",
        "    x = layers.ReLU()(x)\n",
        "\n",
        "    # Residual blocks without intermediate attention\n",
        "\n",
        "\n",
        "    x = residual_block_group(x, filters=128, n_blocks=2, stride=1)\n",
        "    x = residual_block_group(x, filters=256, n_blocks=2, stride=2)\n",
        "    x = residual_block_group(x, filters=512, n_blocks=2, stride=2)\n",
        "\n",
        "    # Apply simple attention before global pooling\n",
        "    x = simple_attention(x)\n",
        "\n",
        "    return GlobalAveragePooling2D()(x)\n",
        "\n",
        "def sf_dense_stream(input_tensor, growth_rate=16):\n",
        "    \"\"\"SF Dense Stream without attention\"\"\"\n",
        "    x = Conv2D(64, (3, 3), padding='same', use_bias=False)(input_tensor)\n",
        "    x = BatchNormalization()(x)\n",
        "    x = Activation('relu')(x)\n",
        "    x = MaxPooling2D((2, 2))(x)\n",
        "\n",
        "    # Dense blocks without any attention\n",
        "    x = dense_block(x, num_layers=4, growth_rate=growth_rate)\n",
        "    x = transition_layer(x)\n",
        "\n",
        "    x = dense_block(x, num_layers=4, growth_rate=growth_rate)\n",
        "    x = transition_layer(x)\n",
        "\n",
        "    x = dense_block(x, num_layers=8, growth_rate=growth_rate)\n",
        "\n",
        "    sf_pool = GlobalAveragePooling2D()(x)\n",
        "    return sf_pool\n",
        "\n",
        "def build_derefnet(input_shape=(64, 64, 3), num_classes=38, growth_rate=16):\n",
        "    \"\"\"Build DeReFNet for PlantVillage dataset - attention only on residual stream\"\"\"\n",
        "    from tensorflow.keras import Input\n",
        "    inputs = Input(shape=input_shape)\n",
        "\n",
        "\n",
        "    # Two parallel streams - attention only on residual stream output\n",
        "    gfa_out = gfa_residual_stream(inputs)  # Simple attention applied before GAP\n",
        "    sf_out = sf_dense_stream(inputs, growth_rate)  # No attention\n",
        "\n",
        "    # Fusion\n",
        "    fused = Concatenate()([gfa_out, sf_out])\n",
        "    fused = Dropout(0.5)(fused)\n",
        "\n",
        "    # Final classification layer\n",
        "    outputs = Dense(num_classes, activation='softmax', dtype='float32')(fused)\n",
        "\n",
        "    return Model(inputs, outputs, name='DeReFNet_PlantVillage')"
      ],
      "metadata": {
        "id": "KQZ5lUr5g56k"
      },
      "execution_count": null,
      "outputs": []
    },
    {
      "cell_type": "code",
      "source": [
        "\n",
        "# Build and compile the model for PlantVillage\n",
        "model = build_derefnet(input_shape=(64,64,3), num_classes=38, growth_rate=16)\n",
        "\n",
        "model.compile(\n",
        "    optimizer='adam',\n",
        "    loss='sparse_categorical_crossentropy',\n",
        "    metrics=['accuracy']\n",
        ")"
      ],
      "metadata": {
        "id": "TL_9dAcqhAOt"
      },
      "execution_count": null,
      "outputs": []
    },
    {
      "cell_type": "code",
      "source": [
        "\n",
        "\n",
        "model.fit(train_ds, validation_data=val_ds, epochs=10)\n"
      ],
      "metadata": {
        "colab": {
          "base_uri": "https://localhost:8080/"
        },
        "id": "JdFjz-4xqnUT",
        "outputId": "b18164dc-590d-4688-f271-19d71296092e"
      },
      "execution_count": null,
      "outputs": [
        {
          "output_type": "stream",
          "name": "stdout",
          "text": [
            "Epoch 1/10\n",
            "\u001b[1m849/849\u001b[0m \u001b[32m━━━━━━━━━━━━━━━━━━━━\u001b[0m\u001b[37m\u001b[0m \u001b[1m372s\u001b[0m 351ms/step - accuracy: 0.5254 - loss: 1.7036 - val_accuracy: 0.5537 - val_loss: 1.8303\n",
            "Epoch 2/10\n",
            "\u001b[1m849/849\u001b[0m \u001b[32m━━━━━━━━━━━━━━━━━━━━\u001b[0m\u001b[37m\u001b[0m \u001b[1m245s\u001b[0m 287ms/step - accuracy: 0.7773 - loss: 0.7271 - val_accuracy: 0.3484 - val_loss: 3.8719\n",
            "Epoch 3/10\n",
            "\u001b[1m849/849\u001b[0m \u001b[32m━━━━━━━━━━━━━━━━━━━━\u001b[0m\u001b[37m\u001b[0m \u001b[1m262s\u001b[0m 287ms/step - accuracy: 0.8410 - loss: 0.5203 - val_accuracy: 0.5864 - val_loss: 1.7160\n",
            "Epoch 4/10\n",
            "\u001b[1m849/849\u001b[0m \u001b[32m━━━━━━━━━━━━━━━━━━━━\u001b[0m\u001b[37m\u001b[0m \u001b[1m274s\u001b[0m 323ms/step - accuracy: 0.8703 - loss: 0.4044 - val_accuracy: 0.6456 - val_loss: 1.3446\n",
            "Epoch 5/10\n",
            "\u001b[1m849/849\u001b[0m \u001b[32m━━━━━━━━━━━━━━━━━━━━\u001b[0m\u001b[37m\u001b[0m \u001b[1m244s\u001b[0m 287ms/step - accuracy: 0.8968 - loss: 0.3239 - val_accuracy: 0.3038 - val_loss: 6.7771\n",
            "Epoch 6/10\n",
            "\u001b[1m849/849\u001b[0m \u001b[32m━━━━━━━━━━━━━━━━━━━━\u001b[0m\u001b[37m\u001b[0m \u001b[1m274s\u001b[0m 323ms/step - accuracy: 0.9063 - loss: 0.2785 - val_accuracy: 0.7520 - val_loss: 0.9638\n",
            "Epoch 7/10\n",
            "\u001b[1m849/849\u001b[0m \u001b[32m━━━━━━━━━━━━━━━━━━━━\u001b[0m\u001b[37m\u001b[0m \u001b[1m244s\u001b[0m 287ms/step - accuracy: 0.9235 - loss: 0.2299 - val_accuracy: 0.9315 - val_loss: 0.2218\n",
            "Epoch 8/10\n",
            "\u001b[1m849/849\u001b[0m \u001b[32m━━━━━━━━━━━━━━━━━━━━\u001b[0m\u001b[37m\u001b[0m \u001b[1m293s\u001b[0m 323ms/step - accuracy: 0.9325 - loss: 0.2075 - val_accuracy: 0.4442 - val_loss: 3.4391\n",
            "Epoch 9/10\n",
            "\u001b[1m849/849\u001b[0m \u001b[32m━━━━━━━━━━━━━━━━━━━━\u001b[0m\u001b[37m\u001b[0m \u001b[1m243s\u001b[0m 287ms/step - accuracy: 0.9395 - loss: 0.1896 - val_accuracy: 0.4889 - val_loss: 3.7221\n",
            "Epoch 10/10\n",
            "\u001b[1m849/849\u001b[0m \u001b[32m━━━━━━━━━━━━━━━━━━━━\u001b[0m\u001b[37m\u001b[0m \u001b[1m262s\u001b[0m 287ms/step - accuracy: 0.9433 - loss: 0.1716 - val_accuracy: 0.7408 - val_loss: 1.2314\n"
          ]
        },
        {
          "output_type": "execute_result",
          "data": {
            "text/plain": [
              "<keras.src.callbacks.history.History at 0x7dda9c48fe50>"
            ]
          },
          "metadata": {},
          "execution_count": 16
        }
      ]
    },
    {
      "cell_type": "code",
      "source": [
        "model.fit(train_ds, validation_data=val_ds, epochs=10)"
      ],
      "metadata": {
        "id": "TUkC4yKfgLA2",
        "colab": {
          "base_uri": "https://localhost:8080/"
        },
        "outputId": "0e3d6e05-cddf-4405-d161-6863333d4841"
      },
      "execution_count": null,
      "outputs": [
        {
          "output_type": "stream",
          "name": "stdout",
          "text": [
            "Epoch 1/10\n",
            "\u001b[1m849/849\u001b[0m \u001b[32m━━━━━━━━━━━━━━━━━━━━\u001b[0m\u001b[37m\u001b[0m \u001b[1m243s\u001b[0m 287ms/step - accuracy: 0.9501 - loss: 0.1472 - val_accuracy: 0.6134 - val_loss: 2.3508\n",
            "Epoch 2/10\n",
            "\u001b[1m849/849\u001b[0m \u001b[32m━━━━━━━━━━━━━━━━━━━━\u001b[0m\u001b[37m\u001b[0m \u001b[1m244s\u001b[0m 287ms/step - accuracy: 0.9551 - loss: 0.1411 - val_accuracy: 0.5268 - val_loss: 3.1176\n",
            "Epoch 3/10\n",
            "\u001b[1m849/849\u001b[0m \u001b[32m━━━━━━━━━━━━━━━━━━━━\u001b[0m\u001b[37m\u001b[0m \u001b[1m262s\u001b[0m 287ms/step - accuracy: 0.9541 - loss: 0.1375 - val_accuracy: 0.7949 - val_loss: 0.8837\n",
            "Epoch 4/10\n",
            "\u001b[1m849/849\u001b[0m \u001b[32m━━━━━━━━━━━━━━━━━━━━\u001b[0m\u001b[37m\u001b[0m \u001b[1m243s\u001b[0m 287ms/step - accuracy: 0.9576 - loss: 0.1315 - val_accuracy: 0.8310 - val_loss: 0.7063\n",
            "Epoch 5/10\n",
            "\u001b[1m849/849\u001b[0m \u001b[32m━━━━━━━━━━━━━━━━━━━━\u001b[0m\u001b[37m\u001b[0m \u001b[1m262s\u001b[0m 287ms/step - accuracy: 0.9646 - loss: 0.1065 - val_accuracy: 0.8440 - val_loss: 0.5752\n",
            "Epoch 6/10\n",
            "\u001b[1m849/849\u001b[0m \u001b[32m━━━━━━━━━━━━━━━━━━━━\u001b[0m\u001b[37m\u001b[0m \u001b[1m292s\u001b[0m 323ms/step - accuracy: 0.9679 - loss: 0.1004 - val_accuracy: 0.3605 - val_loss: 5.0240\n",
            "Epoch 7/10\n",
            "\u001b[1m849/849\u001b[0m \u001b[32m━━━━━━━━━━━━━━━━━━━━\u001b[0m\u001b[37m\u001b[0m \u001b[1m243s\u001b[0m 287ms/step - accuracy: 0.9645 - loss: 0.0996 - val_accuracy: 0.9190 - val_loss: 0.2675\n",
            "Epoch 8/10\n",
            "\u001b[1m849/849\u001b[0m \u001b[32m━━━━━━━━━━━━━━━━━━━━\u001b[0m\u001b[37m\u001b[0m \u001b[1m243s\u001b[0m 287ms/step - accuracy: 0.9680 - loss: 0.0911 - val_accuracy: 0.9313 - val_loss: 0.2351\n",
            "Epoch 9/10\n",
            "\u001b[1m849/849\u001b[0m \u001b[32m━━━━━━━━━━━━━━━━━━━━\u001b[0m\u001b[37m\u001b[0m \u001b[1m243s\u001b[0m 286ms/step - accuracy: 0.9712 - loss: 0.0862 - val_accuracy: 0.9313 - val_loss: 0.2261\n",
            "Epoch 10/10\n",
            "\u001b[1m849/849\u001b[0m \u001b[32m━━━━━━━━━━━━━━━━━━━━\u001b[0m\u001b[37m\u001b[0m \u001b[1m262s\u001b[0m 287ms/step - accuracy: 0.9739 - loss: 0.0780 - val_accuracy: 0.8970 - val_loss: 0.4185\n"
          ]
        },
        {
          "output_type": "execute_result",
          "data": {
            "text/plain": [
              "<keras.src.callbacks.history.History at 0x7dd98263a590>"
            ]
          },
          "metadata": {},
          "execution_count": 17
        }
      ]
    },
    {
      "cell_type": "code",
      "source": [],
      "metadata": {
        "id": "RgW1xcN7g0zP"
      },
      "execution_count": null,
      "outputs": []
    }
  ]
}