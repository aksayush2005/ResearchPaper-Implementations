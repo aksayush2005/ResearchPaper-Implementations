{
  "nbformat": 4,
  "nbformat_minor": 0,
  "metadata": {
    "colab": {
      "provenance": [],
      "gpuType": "T4"
    },
    "kernelspec": {
      "name": "python3",
      "display_name": "Python 3"
    },
    "language_info": {
      "name": "python"
    },
    "accelerator": "GPU"
  },
  "cells": [
    {
      "cell_type": "code",
      "execution_count": null,
      "metadata": {
        "id": "INZGVNLDdlNc",
        "colab": {
          "base_uri": "https://localhost:8080/"
        },
        "outputId": "db933605-83be-4efb-94db-aabe2af88c85"
      },
      "outputs": [
        {
          "output_type": "stream",
          "name": "stdout",
          "text": [
            " GPU memory growth enabled\n",
            " Mixed precision policy: <DTypePolicy \"mixed_float16\">\n"
          ]
        }
      ],
      "source": [
        "import tensorflow as tf\n",
        "from tensorflow.keras import layers, mixed_precision\n",
        "from tensorflow.keras.layers import (Input, Conv2D, MaxPooling2D, AveragePooling2D,\n",
        "                                     GlobalAveragePooling2D, BatchNormalization,\n",
        "                                     Activation, Add, Concatenate, Dense, Dropout,\n",
        "                                     Multiply, Reshape)\n",
        "import os, kagglehub\n",
        "\n",
        "# Disable XLA JIT (to avoid huge pinned‐host allocs)\n",
        "tf.config.optimizer.set_jit(False)\n",
        "\n",
        "# GPU memory growth\n",
        "gpus = tf.config.experimental.list_physical_devices('GPU')\n",
        "if gpus:\n",
        "    for g in gpus:\n",
        "        tf.config.experimental.set_memory_growth(g, True)\n",
        "    print(\" GPU memory growth enabled\")\n",
        "else:\n",
        "    print(\" No GPU detected\")\n",
        "\n",
        "mixed_precision.set_global_policy('mixed_float16')\n",
        "print(\" Mixed precision policy:\", mixed_precision.global_policy())\n"
      ]
    },
    {
      "cell_type": "code",
      "source": [
        "import os\n",
        "import kagglehub\n",
        "\n",
        "path = kagglehub.dataset_download(\"nafishamoin/bangladeshi-crops-disease-dataset\")\n",
        "print(\" Raw dataset path:\", path)\n",
        "\n",
        "main_folder = os.listdir(path)[0]\n",
        "main_path = os.path.join(path, main_folder)\n",
        "print(\" Main folder:\", main_folder)\n",
        "print(\"Contents of main folder:\", os.listdir(main_path)[:5])\n",
        "\n",
        "image_root = os.path.join(main_path, \"Crop___DIsease\")\n",
        "print(\" Image root folder:\", image_root)\n",
        "\n",
        "classes = os.listdir(image_root)\n",
        "print(\" Classes found:\", classes[:10])"
      ],
      "metadata": {
        "id": "vqse1rLodza3",
        "colab": {
          "base_uri": "https://localhost:8080/"
        },
        "outputId": "3db68b1b-94a7-4b87-8f7a-049b833c74b2"
      },
      "execution_count": null,
      "outputs": [
        {
          "output_type": "stream",
          "name": "stdout",
          "text": [
            " Raw dataset path: /kaggle/input/bangladeshi-crops-disease-dataset\n",
            " Main folder: CropDisease\n",
            "Contents of main folder: ['Crop___DIsease']\n",
            " Image root folder: /kaggle/input/bangladeshi-crops-disease-dataset/CropDisease/Crop___DIsease\n",
            " Classes found: ['Wheat___Yellow_Rust', 'Potato___Healthy', 'Corn___Healthy', 'Wheat___Brown_Rust', 'Corn___Gray_Leaf_Spot', 'Rice___Brown_Spot', 'Wheat___Healthy', 'Rice___Leaf_Blast', 'Potato___Late_Blight', 'Rice___Healthy']\n"
          ]
        }
      ]
    },
    {
      "cell_type": "code",
      "source": [
        "data_root = os.path.join(main_path, \"Crop___DIsease\")"
      ],
      "metadata": {
        "id": "QJu80Ii7OEqc"
      },
      "execution_count": null,
      "outputs": []
    },
    {
      "cell_type": "code",
      "source": [
        "#Load datasets with one hot labels\n",
        "import tensorflow as tf\n",
        "\n",
        "batch_size = 8\n",
        "img_size   = (160, 160)\n",
        "\n",
        "dataset_train = tf.keras.preprocessing.image_dataset_from_directory(\n",
        "    data_root,\n",
        "    validation_split=0.2,\n",
        "    subset=\"training\",\n",
        "    seed=42,\n",
        "    image_size=img_size,\n",
        "    batch_size=batch_size,\n",
        "    label_mode='categorical' # yields one-hot float32 labels\n",
        ")\n",
        "dataset_val = tf.keras.preprocessing.image_dataset_from_directory(\n",
        "    data_root,\n",
        "    validation_split=0.2,\n",
        "    subset=\"validation\",\n",
        "    seed=42,\n",
        "    image_size=img_size,\n",
        "    batch_size=batch_size,\n",
        "    label_mode='categorical'\n",
        ")\n",
        "\n",
        "print(\"Train element spec:\", dataset_train.element_spec)"
      ],
      "metadata": {
        "colab": {
          "base_uri": "https://localhost:8080/"
        },
        "id": "ErQIhnFUkxX2",
        "outputId": "b2d282c4-8457-4e00-c7e8-2e0e09beb4da"
      },
      "execution_count": null,
      "outputs": [
        {
          "output_type": "stream",
          "name": "stdout",
          "text": [
            "Found 31053 files belonging to 15 classes.\n",
            "Using 24843 files for training.\n",
            "Found 31053 files belonging to 15 classes.\n",
            "Using 6210 files for validation.\n",
            "Train element spec: (TensorSpec(shape=(None, 160, 160, 3), dtype=tf.float32, name=None), TensorSpec(shape=(None, 15), dtype=tf.float32, name=None))\n"
          ]
        }
      ]
    },
    {
      "cell_type": "code",
      "source": [
        "#Preprocessing pipeline (normalize + minimal prefetch)\n",
        "AUTOTUNE = tf.data.AUTOTUNE\n",
        "\n",
        "def preprocess(image, label):\n",
        "    image = tf.cast(image, tf.float32) / 255.0\n",
        "    return image, label\n",
        "\n",
        "train_ds = (\n",
        "    dataset_train\n",
        "    .map(preprocess, num_parallel_calls=AUTOTUNE)\n",
        "    .shuffle(500)\n",
        "    .prefetch(1)\n",
        ")\n",
        "\n",
        "val_ds = (\n",
        "    dataset_val\n",
        "    .map(preprocess, num_parallel_calls=AUTOTUNE)\n",
        "    .prefetch(1)\n",
        ")\n"
      ],
      "metadata": {
        "id": "MiRc6greeROK"
      },
      "execution_count": null,
      "outputs": []
    },
    {
      "cell_type": "code",
      "source": [
        "#Model building blocks\n",
        "def simple_attention(x, reduction_ratio=8):\n",
        "    c = x.shape[-1]\n",
        "    gap = GlobalAveragePooling2D()(x)\n",
        "    gap = Reshape((1,1,c))(gap)\n",
        "    a = Dense(c//reduction_ratio, activation='relu')(gap)\n",
        "    a = Dense(c, activation='sigmoid')(a)\n",
        "    return Multiply()([x,a])\n",
        "\n",
        "def residual_block(x, filters, stride=1):\n",
        "    shortcut = x\n",
        "    x = Conv2D(filters,3,strides=stride,padding='same',use_bias=False)(x)\n",
        "    x = BatchNormalization()(x); x=Activation('relu')(x)\n",
        "    x = Conv2D(filters,3,padding='same',use_bias=False)(x)\n",
        "    x = BatchNormalization()(x)\n",
        "    if stride!=1 or shortcut.shape[-1]!=filters:\n",
        "        shortcut = Conv2D(filters,1,strides=stride,use_bias=False)(shortcut)\n",
        "        shortcut = BatchNormalization()(shortcut)\n",
        "    x = Add()([x,shortcut]); return Activation('relu')(x)\n",
        "\n",
        "def residual_block_group(x, f, n, stride=1):\n",
        "    x = residual_block(x,f,stride)\n",
        "    for _ in range(1,n):\n",
        "        x = residual_block(x,f,1)\n",
        "    return x\n",
        "\n",
        "def dense_block(x, layers_n, g_rate):\n",
        "    feats = [x]\n",
        "    for _ in range(layers_n):\n",
        "        y = Concatenate()(feats)\n",
        "        y = BatchNormalization()(y); y=Activation('relu')(y)\n",
        "        y = Conv2D(4*g_rate,1,padding='same',use_bias=False)(y)\n",
        "        y = BatchNormalization()(y); y=Activation('relu')(y)\n",
        "        y = Conv2D(g_rate,3,padding='same',use_bias=False)(y)\n",
        "        feats.append(y)\n",
        "    return Concatenate()(feats)\n",
        "\n",
        "def transition_layer(x):\n",
        "    x = BatchNormalization()(x)\n",
        "    x = Conv2D(x.shape[-1]//2,1,padding='same',use_bias=False)(x)\n",
        "    return AveragePooling2D(2,2)(x)\n"
      ],
      "metadata": {
        "id": "TF1z-F13hbza"
      },
      "execution_count": null,
      "outputs": []
    },
    {
      "cell_type": "code",
      "source": [
        "from google.colab import drive\n",
        "drive.mount('/content/drive')\n"
      ],
      "metadata": {
        "colab": {
          "base_uri": "https://localhost:8080/"
        },
        "id": "ydEj4XrEhm4h",
        "outputId": "e2bccc16-4982-4be7-c47d-ffe9fab0d2b6"
      },
      "execution_count": null,
      "outputs": [
        {
          "output_type": "stream",
          "name": "stdout",
          "text": [
            "Drive already mounted at /content/drive; to attempt to forcibly remount, call drive.mount(\"/content/drive\", force_remount=True).\n"
          ]
        }
      ]
    },
    {
      "cell_type": "code",
      "source": [
        "from tensorflow.keras.models import Model\n",
        "from tensorflow.keras import callbacks, optimizers, losses\n",
        "from tensorflow.keras.layers import (Input, Conv2D, BatchNormalization, Activation, MaxPooling2D,\n",
        "                                     GlobalAveragePooling2D, Dense, Dropout, Concatenate)\n",
        "import os\n",
        "from google.colab import drive\n",
        "\n",
        "\n",
        "\n",
        "# Build DeReFNet\n",
        "def build_derefnet(input_shape=(160,160,3), num_classes=dataset_train.cardinality().numpy(), growth_rate=12):\n",
        "    i = Input(shape=input_shape)\n",
        "\n",
        "    # Residual stream\n",
        "    x = Conv2D(32, 3, padding='same', use_bias=False)(i)\n",
        "    x = BatchNormalization()(x); x = Activation('relu')(x)\n",
        "    r1 = residual_block_group(x, 64, 1)\n",
        "    r2 = residual_block_group(r1, 128, 1, stride=2)\n",
        "    r3 = residual_block_group(r2, 256, 1, stride=2)\n",
        "    a3 = simple_attention(r3); g3 = GlobalAveragePooling2D()(a3)\n",
        "    gaps = [GlobalAveragePooling2D()(simple_attention(r)) for r in (r1, r2, r3)]\n",
        "\n",
        "    # Dense stream\n",
        "    d = Conv2D(32, 3, padding='same', use_bias=False)(i)\n",
        "    d = BatchNormalization()(d); d = Activation('relu')(d); d = MaxPooling2D(2)(d)\n",
        "    d = dense_block(d, 3, growth_rate); d = transition_layer(d)\n",
        "    d = dense_block(d, 3, growth_rate); d = transition_layer(d)\n",
        "    d = dense_block(d, 5, growth_rate); gd = GlobalAveragePooling2D()(d)\n",
        "\n",
        "    # Fuse & classify\n",
        "    f = Concatenate()([g3, gd, *gaps]); f = Dropout(0.5)(f)\n",
        "    out = Dense(dataset_train.element_spec[1].shape[-1], activation='softmax', dtype='float32')(f)\n",
        "\n",
        "    return Model(i, out)\n",
        "\n",
        "# Learning rate schedule\n",
        "lr_schedule = optimizers.schedules.ExponentialDecay(\n",
        "    initial_learning_rate=1e-4,\n",
        "    decay_steps=1000,\n",
        "    decay_rate=0.9,\n",
        "    staircase=True\n",
        ")\n",
        "\n",
        "# Build and compile the model\n",
        "model = build_derefnet()\n",
        "model.compile(\n",
        "    optimizer=optimizers.Adam(learning_rate=lr_schedule, clipnorm=1.0),\n",
        "    loss=losses.CategoricalCrossentropy(),\n",
        "    metrics=['accuracy']\n",
        ")\n",
        "\n",
        "# Path to save best model\n",
        "model_path = '/content/drive/MyDrive/best/BNG_crops/best_model.h5'\n",
        "os.makedirs(os.path.dirname(model_path), exist_ok=True)\n",
        "\n",
        "# Callbacks\n",
        "cbs = [\n",
        "    callbacks.EarlyStopping(\n",
        "        monitor='val_accuracy',\n",
        "        patience=4,\n",
        "        restore_best_weights=True,\n",
        "        verbose=1,\n",
        "        mode='max'\n",
        "    ),\n",
        "    callbacks.ModelCheckpoint(\n",
        "        model_path,\n",
        "        monitor='val_accuracy',\n",
        "        save_best_only=True,\n",
        "        verbose=1,\n",
        "        mode='max'\n",
        "    ),\n",
        "]\n",
        "\n",
        "\n",
        "history = model.fit(\n",
        "    train_ds,\n",
        "    validation_data=val_ds,\n",
        "    epochs=30,\n",
        "    callbacks=cbs\n",
        ")\n"
      ],
      "metadata": {
        "colab": {
          "base_uri": "https://localhost:8080/"
        },
        "id": "QK88othpZYOh",
        "outputId": "3eb25cfb-56ed-4ce7-91b9-70d35e4985a0"
      },
      "execution_count": null,
      "outputs": [
        {
          "output_type": "stream",
          "name": "stdout",
          "text": [
            "Drive already mounted at /content/drive; to attempt to forcibly remount, call drive.mount(\"/content/drive\", force_remount=True).\n",
            "Epoch 1/30\n",
            "\u001b[1m3106/3106\u001b[0m \u001b[32m━━━━━━━━━━━━━━━━━━━━\u001b[0m\u001b[37m\u001b[0m \u001b[1m0s\u001b[0m 64ms/step - accuracy: 0.6921 - loss: 0.9662\n",
            "Epoch 1: val_accuracy improved from -inf to 0.89823, saving model to /content/drive/MyDrive/best/BNG_crops/best_model.h5\n"
          ]
        },
        {
          "output_type": "stream",
          "name": "stderr",
          "text": [
            "WARNING:absl:You are saving your model as an HDF5 file via `model.save()` or `keras.saving.save_model(model)`. This file format is considered legacy. We recommend using instead the native Keras format, e.g. `model.save('my_model.keras')` or `keras.saving.save_model(model, 'my_model.keras')`. \n"
          ]
        },
        {
          "output_type": "stream",
          "name": "stdout",
          "text": [
            "\b\b\b\b\b\b\b\b\b\b\b\b\b\b\b\b\b\b\b\b\b\b\b\b\b\b\b\b\b\b\b\b\b\b\b\b\b\b\b\b\b\b\b\b\b\b\b\b\b\b\b\b\b\b\b\b\b\b\b\b\b\b\b\b\b\b\b\b\b\b\b\b\b\b\b\b\b\r\u001b[1m3106/3106\u001b[0m \u001b[32m━━━━━━━━━━━━━━━━━━━━\u001b[0m\u001b[37m\u001b[0m \u001b[1m354s\u001b[0m 79ms/step - accuracy: 0.6921 - loss: 0.9661 - val_accuracy: 0.8982 - val_loss: 0.3080\n",
            "Epoch 2/30\n",
            "\u001b[1m3106/3106\u001b[0m \u001b[32m━━━━━━━━━━━━━━━━━━━━\u001b[0m\u001b[37m\u001b[0m \u001b[1m0s\u001b[0m 51ms/step - accuracy: 0.8675 - loss: 0.3847\n",
            "Epoch 2: val_accuracy improved from 0.89823 to 0.92963, saving model to /content/drive/MyDrive/best/BNG_crops/best_model.h5\n"
          ]
        },
        {
          "output_type": "stream",
          "name": "stderr",
          "text": [
            "WARNING:absl:You are saving your model as an HDF5 file via `model.save()` or `keras.saving.save_model(model)`. This file format is considered legacy. We recommend using instead the native Keras format, e.g. `model.save('my_model.keras')` or `keras.saving.save_model(model, 'my_model.keras')`. \n"
          ]
        },
        {
          "output_type": "stream",
          "name": "stdout",
          "text": [
            "\b\b\b\b\b\b\b\b\b\b\b\b\b\b\b\b\b\b\b\b\b\b\b\b\b\b\b\b\b\b\b\b\b\b\b\b\b\b\b\b\b\b\b\b\b\b\b\b\b\b\b\b\b\b\b\b\b\b\b\b\b\b\b\b\b\b\b\b\b\b\b\b\b\b\b\b\b\r\u001b[1m3106/3106\u001b[0m \u001b[32m━━━━━━━━━━━━━━━━━━━━\u001b[0m\u001b[37m\u001b[0m \u001b[1m219s\u001b[0m 63ms/step - accuracy: 0.8675 - loss: 0.3847 - val_accuracy: 0.9296 - val_loss: 0.2029\n",
            "Epoch 3/30\n",
            "\u001b[1m3106/3106\u001b[0m \u001b[32m━━━━━━━━━━━━━━━━━━━━\u001b[0m\u001b[37m\u001b[0m \u001b[1m0s\u001b[0m 49ms/step - accuracy: 0.8920 - loss: 0.3016\n",
            "Epoch 3: val_accuracy did not improve from 0.92963\n",
            "\u001b[1m3106/3106\u001b[0m \u001b[32m━━━━━━━━━━━━━━━━━━━━\u001b[0m\u001b[37m\u001b[0m \u001b[1m209s\u001b[0m 60ms/step - accuracy: 0.8920 - loss: 0.3016 - val_accuracy: 0.9287 - val_loss: 0.1918\n",
            "Epoch 4/30\n",
            "\u001b[1m3105/3106\u001b[0m \u001b[32m━━━━━━━━━━━━━━━━━━━\u001b[0m\u001b[37m━\u001b[0m \u001b[1m0s\u001b[0m 50ms/step - accuracy: 0.9030 - loss: 0.2650\n",
            "Epoch 4: val_accuracy improved from 0.92963 to 0.93607, saving model to /content/drive/MyDrive/best/BNG_crops/best_model.h5\n"
          ]
        },
        {
          "output_type": "stream",
          "name": "stderr",
          "text": [
            "WARNING:absl:You are saving your model as an HDF5 file via `model.save()` or `keras.saving.save_model(model)`. This file format is considered legacy. We recommend using instead the native Keras format, e.g. `model.save('my_model.keras')` or `keras.saving.save_model(model, 'my_model.keras')`. \n"
          ]
        },
        {
          "output_type": "stream",
          "name": "stdout",
          "text": [
            "\b\b\b\b\b\b\b\b\b\b\b\b\b\b\b\b\b\b\b\b\b\b\b\b\b\b\b\b\b\b\b\b\b\b\b\b\b\b\b\b\b\b\b\b\b\b\b\b\b\b\b\b\b\b\b\b\b\b\b\b\b\b\b\b\b\b\b\b\b\b\b\b\b\b\b\b\b\r\u001b[1m3106/3106\u001b[0m \u001b[32m━━━━━━━━━━━━━━━━━━━━\u001b[0m\u001b[37m\u001b[0m \u001b[1m219s\u001b[0m 63ms/step - accuracy: 0.9030 - loss: 0.2650 - val_accuracy: 0.9361 - val_loss: 0.1772\n",
            "Epoch 5/30\n",
            "\u001b[1m3106/3106\u001b[0m \u001b[32m━━━━━━━━━━━━━━━━━━━━\u001b[0m\u001b[37m\u001b[0m \u001b[1m0s\u001b[0m 50ms/step - accuracy: 0.9109 - loss: 0.2461\n",
            "Epoch 5: val_accuracy improved from 0.93607 to 0.94267, saving model to /content/drive/MyDrive/best/BNG_crops/best_model.h5\n"
          ]
        },
        {
          "output_type": "stream",
          "name": "stderr",
          "text": [
            "WARNING:absl:You are saving your model as an HDF5 file via `model.save()` or `keras.saving.save_model(model)`. This file format is considered legacy. We recommend using instead the native Keras format, e.g. `model.save('my_model.keras')` or `keras.saving.save_model(model, 'my_model.keras')`. \n"
          ]
        },
        {
          "output_type": "stream",
          "name": "stdout",
          "text": [
            "\b\b\b\b\b\b\b\b\b\b\b\b\b\b\b\b\b\b\b\b\b\b\b\b\b\b\b\b\b\b\b\b\b\b\b\b\b\b\b\b\b\b\b\b\b\b\b\b\b\b\b\b\b\b\b\b\b\b\b\b\b\b\b\b\b\b\b\b\b\b\b\b\b\b\b\b\b\r\u001b[1m3106/3106\u001b[0m \u001b[32m━━━━━━━━━━━━━━━━━━━━\u001b[0m\u001b[37m\u001b[0m \u001b[1m215s\u001b[0m 62ms/step - accuracy: 0.9109 - loss: 0.2461 - val_accuracy: 0.9427 - val_loss: 0.1530\n",
            "Epoch 6/30\n",
            "\u001b[1m3106/3106\u001b[0m \u001b[32m━━━━━━━━━━━━━━━━━━━━\u001b[0m\u001b[37m\u001b[0m \u001b[1m0s\u001b[0m 50ms/step - accuracy: 0.9162 - loss: 0.2280\n",
            "Epoch 6: val_accuracy did not improve from 0.94267\n",
            "\u001b[1m3106/3106\u001b[0m \u001b[32m━━━━━━━━━━━━━━━━━━━━\u001b[0m\u001b[37m\u001b[0m \u001b[1m260s\u001b[0m 61ms/step - accuracy: 0.9162 - loss: 0.2280 - val_accuracy: 0.9411 - val_loss: 0.1520\n",
            "Epoch 7/30\n",
            "\u001b[1m3106/3106\u001b[0m \u001b[32m━━━━━━━━━━━━━━━━━━━━\u001b[0m\u001b[37m\u001b[0m \u001b[1m0s\u001b[0m 50ms/step - accuracy: 0.9200 - loss: 0.2136\n",
            "Epoch 7: val_accuracy improved from 0.94267 to 0.94605, saving model to /content/drive/MyDrive/best/BNG_crops/best_model.h5\n"
          ]
        },
        {
          "output_type": "stream",
          "name": "stderr",
          "text": [
            "WARNING:absl:You are saving your model as an HDF5 file via `model.save()` or `keras.saving.save_model(model)`. This file format is considered legacy. We recommend using instead the native Keras format, e.g. `model.save('my_model.keras')` or `keras.saving.save_model(model, 'my_model.keras')`. \n"
          ]
        },
        {
          "output_type": "stream",
          "name": "stdout",
          "text": [
            "\b\b\b\b\b\b\b\b\b\b\b\b\b\b\b\b\b\b\b\b\b\b\b\b\b\b\b\b\b\b\b\b\b\b\b\b\b\b\b\b\b\b\b\b\b\b\b\b\b\b\b\b\b\b\b\b\b\b\b\b\b\b\b\b\b\b\b\b\b\b\b\b\b\b\b\b\b\r\u001b[1m3106/3106\u001b[0m \u001b[32m━━━━━━━━━━━━━━━━━━━━\u001b[0m\u001b[37m\u001b[0m \u001b[1m220s\u001b[0m 64ms/step - accuracy: 0.9200 - loss: 0.2136 - val_accuracy: 0.9461 - val_loss: 0.1444\n",
            "Epoch 8/30\n",
            "\u001b[1m3106/3106\u001b[0m \u001b[32m━━━━━━━━━━━━━━━━━━━━\u001b[0m\u001b[37m\u001b[0m \u001b[1m0s\u001b[0m 50ms/step - accuracy: 0.9237 - loss: 0.2054\n",
            "Epoch 8: val_accuracy did not improve from 0.94605\n",
            "\u001b[1m3106/3106\u001b[0m \u001b[32m━━━━━━━━━━━━━━━━━━━━\u001b[0m\u001b[37m\u001b[0m \u001b[1m216s\u001b[0m 62ms/step - accuracy: 0.9237 - loss: 0.2054 - val_accuracy: 0.9459 - val_loss: 0.1455\n",
            "Epoch 9/30\n",
            "\u001b[1m3105/3106\u001b[0m \u001b[32m━━━━━━━━━━━━━━━━━━━\u001b[0m\u001b[37m━\u001b[0m \u001b[1m0s\u001b[0m 51ms/step - accuracy: 0.9243 - loss: 0.1999\n",
            "Epoch 9: val_accuracy improved from 0.94605 to 0.94654, saving model to /content/drive/MyDrive/best/BNG_crops/best_model.h5\n"
          ]
        },
        {
          "output_type": "stream",
          "name": "stderr",
          "text": [
            "WARNING:absl:You are saving your model as an HDF5 file via `model.save()` or `keras.saving.save_model(model)`. This file format is considered legacy. We recommend using instead the native Keras format, e.g. `model.save('my_model.keras')` or `keras.saving.save_model(model, 'my_model.keras')`. \n"
          ]
        },
        {
          "output_type": "stream",
          "name": "stdout",
          "text": [
            "\b\b\b\b\b\b\b\b\b\b\b\b\b\b\b\b\b\b\b\b\b\b\b\b\b\b\b\b\b\b\b\b\b\b\b\b\b\b\b\b\b\b\b\b\b\b\b\b\b\b\b\b\b\b\b\b\b\b\b\b\b\b\b\b\b\b\b\b\b\b\b\b\b\b\b\b\b\r\u001b[1m3106/3106\u001b[0m \u001b[32m━━━━━━━━━━━━━━━━━━━━\u001b[0m\u001b[37m\u001b[0m \u001b[1m219s\u001b[0m 63ms/step - accuracy: 0.9243 - loss: 0.1999 - val_accuracy: 0.9465 - val_loss: 0.1463\n",
            "Epoch 10/30\n",
            "\u001b[1m3106/3106\u001b[0m \u001b[32m━━━━━━━━━━━━━━━━━━━━\u001b[0m\u001b[37m\u001b[0m \u001b[1m0s\u001b[0m 51ms/step - accuracy: 0.9279 - loss: 0.1977\n",
            "Epoch 10: val_accuracy improved from 0.94654 to 0.94750, saving model to /content/drive/MyDrive/best/BNG_crops/best_model.h5\n"
          ]
        },
        {
          "output_type": "stream",
          "name": "stderr",
          "text": [
            "WARNING:absl:You are saving your model as an HDF5 file via `model.save()` or `keras.saving.save_model(model)`. This file format is considered legacy. We recommend using instead the native Keras format, e.g. `model.save('my_model.keras')` or `keras.saving.save_model(model, 'my_model.keras')`. \n"
          ]
        },
        {
          "output_type": "stream",
          "name": "stdout",
          "text": [
            "\b\b\b\b\b\b\b\b\b\b\b\b\b\b\b\b\b\b\b\b\b\b\b\b\b\b\b\b\b\b\b\b\b\b\b\b\b\b\b\b\b\b\b\b\b\b\b\b\b\b\b\b\b\b\b\b\b\b\b\b\b\b\b\b\b\b\b\b\b\b\b\b\b\b\b\b\b\r\u001b[1m3106/3106\u001b[0m \u001b[32m━━━━━━━━━━━━━━━━━━━━\u001b[0m\u001b[37m\u001b[0m \u001b[1m223s\u001b[0m 65ms/step - accuracy: 0.9279 - loss: 0.1977 - val_accuracy: 0.9475 - val_loss: 0.1444\n",
            "Epoch 11/30\n",
            "\u001b[1m3105/3106\u001b[0m \u001b[32m━━━━━━━━━━━━━━━━━━━\u001b[0m\u001b[37m━\u001b[0m \u001b[1m0s\u001b[0m 51ms/step - accuracy: 0.9314 - loss: 0.1849\n",
            "Epoch 11: val_accuracy did not improve from 0.94750\n",
            "\u001b[1m3106/3106\u001b[0m \u001b[32m━━━━━━━━━━━━━━━━━━━━\u001b[0m\u001b[37m\u001b[0m \u001b[1m221s\u001b[0m 64ms/step - accuracy: 0.9314 - loss: 0.1849 - val_accuracy: 0.9475 - val_loss: 0.1411\n",
            "Epoch 12/30\n",
            "\u001b[1m3105/3106\u001b[0m \u001b[32m━━━━━━━━━━━━━━━━━━━\u001b[0m\u001b[37m━\u001b[0m \u001b[1m0s\u001b[0m 50ms/step - accuracy: 0.9282 - loss: 0.1896\n",
            "Epoch 12: val_accuracy improved from 0.94750 to 0.94767, saving model to /content/drive/MyDrive/best/BNG_crops/best_model.h5\n"
          ]
        },
        {
          "output_type": "stream",
          "name": "stderr",
          "text": [
            "WARNING:absl:You are saving your model as an HDF5 file via `model.save()` or `keras.saving.save_model(model)`. This file format is considered legacy. We recommend using instead the native Keras format, e.g. `model.save('my_model.keras')` or `keras.saving.save_model(model, 'my_model.keras')`. \n"
          ]
        },
        {
          "output_type": "stream",
          "name": "stdout",
          "text": [
            "\b\b\b\b\b\b\b\b\b\b\b\b\b\b\b\b\b\b\b\b\b\b\b\b\b\b\b\b\b\b\b\b\b\b\b\b\b\b\b\b\b\b\b\b\b\b\b\b\b\b\b\b\b\b\b\b\b\b\b\b\b\b\b\b\b\b\b\b\b\b\b\b\b\b\b\b\b\r\u001b[1m3106/3106\u001b[0m \u001b[32m━━━━━━━━━━━━━━━━━━━━\u001b[0m\u001b[37m\u001b[0m \u001b[1m217s\u001b[0m 62ms/step - accuracy: 0.9282 - loss: 0.1896 - val_accuracy: 0.9477 - val_loss: 0.1440\n",
            "Epoch 13/30\n",
            "\u001b[1m3106/3106\u001b[0m \u001b[32m━━━━━━━━━━━━━━━━━━━━\u001b[0m\u001b[37m\u001b[0m \u001b[1m0s\u001b[0m 50ms/step - accuracy: 0.9302 - loss: 0.1892\n",
            "Epoch 13: val_accuracy improved from 0.94767 to 0.94911, saving model to /content/drive/MyDrive/best/BNG_crops/best_model.h5\n"
          ]
        },
        {
          "output_type": "stream",
          "name": "stderr",
          "text": [
            "WARNING:absl:You are saving your model as an HDF5 file via `model.save()` or `keras.saving.save_model(model)`. This file format is considered legacy. We recommend using instead the native Keras format, e.g. `model.save('my_model.keras')` or `keras.saving.save_model(model, 'my_model.keras')`. \n"
          ]
        },
        {
          "output_type": "stream",
          "name": "stdout",
          "text": [
            "\b\b\b\b\b\b\b\b\b\b\b\b\b\b\b\b\b\b\b\b\b\b\b\b\b\b\b\b\b\b\b\b\b\b\b\b\b\b\b\b\b\b\b\b\b\b\b\b\b\b\b\b\b\b\b\b\b\b\b\b\b\b\b\b\b\b\b\b\b\b\b\b\b\b\b\b\b\r\u001b[1m3106/3106\u001b[0m \u001b[32m━━━━━━━━━━━━━━━━━━━━\u001b[0m\u001b[37m\u001b[0m \u001b[1m218s\u001b[0m 63ms/step - accuracy: 0.9302 - loss: 0.1892 - val_accuracy: 0.9491 - val_loss: 0.1415\n",
            "Epoch 14/30\n",
            "\u001b[1m3105/3106\u001b[0m \u001b[32m━━━━━━━━━━━━━━━━━━━\u001b[0m\u001b[37m━\u001b[0m \u001b[1m0s\u001b[0m 50ms/step - accuracy: 0.9330 - loss: 0.1856\n",
            "Epoch 14: val_accuracy improved from 0.94911 to 0.94976, saving model to /content/drive/MyDrive/best/BNG_crops/best_model.h5\n"
          ]
        },
        {
          "output_type": "stream",
          "name": "stderr",
          "text": [
            "WARNING:absl:You are saving your model as an HDF5 file via `model.save()` or `keras.saving.save_model(model)`. This file format is considered legacy. We recommend using instead the native Keras format, e.g. `model.save('my_model.keras')` or `keras.saving.save_model(model, 'my_model.keras')`. \n"
          ]
        },
        {
          "output_type": "stream",
          "name": "stdout",
          "text": [
            "\b\b\b\b\b\b\b\b\b\b\b\b\b\b\b\b\b\b\b\b\b\b\b\b\b\b\b\b\b\b\b\b\b\b\b\b\b\b\b\b\b\b\b\b\b\b\b\b\b\b\b\b\b\b\b\b\b\b\b\b\b\b\b\b\b\b\b\b\b\b\b\b\b\b\b\b\b\r\u001b[1m3106/3106\u001b[0m \u001b[32m━━━━━━━━━━━━━━━━━━━━\u001b[0m\u001b[37m\u001b[0m \u001b[1m263s\u001b[0m 63ms/step - accuracy: 0.9330 - loss: 0.1856 - val_accuracy: 0.9498 - val_loss: 0.1400\n",
            "Epoch 15/30\n",
            "\u001b[1m3106/3106\u001b[0m \u001b[32m━━━━━━━━━━━━━━━━━━━━\u001b[0m\u001b[37m\u001b[0m \u001b[1m0s\u001b[0m 51ms/step - accuracy: 0.9332 - loss: 0.1787\n",
            "Epoch 15: val_accuracy did not improve from 0.94976\n",
            "\u001b[1m3106/3106\u001b[0m \u001b[32m━━━━━━━━━━━━━━━━━━━━\u001b[0m\u001b[37m\u001b[0m \u001b[1m218s\u001b[0m 63ms/step - accuracy: 0.9332 - loss: 0.1787 - val_accuracy: 0.9493 - val_loss: 0.1419\n",
            "Epoch 16/30\n",
            "\u001b[1m3106/3106\u001b[0m \u001b[32m━━━━━━━━━━━━━━━━━━━━\u001b[0m\u001b[37m\u001b[0m \u001b[1m0s\u001b[0m 50ms/step - accuracy: 0.9331 - loss: 0.1797\n",
            "Epoch 16: val_accuracy did not improve from 0.94976\n",
            "\u001b[1m3106/3106\u001b[0m \u001b[32m━━━━━━━━━━━━━━━━━━━━\u001b[0m\u001b[37m\u001b[0m \u001b[1m259s\u001b[0m 62ms/step - accuracy: 0.9331 - loss: 0.1797 - val_accuracy: 0.9498 - val_loss: 0.1399\n",
            "Epoch 17/30\n",
            "\u001b[1m3106/3106\u001b[0m \u001b[32m━━━━━━━━━━━━━━━━━━━━\u001b[0m\u001b[37m\u001b[0m \u001b[1m0s\u001b[0m 50ms/step - accuracy: 0.9336 - loss: 0.1786\n",
            "Epoch 17: val_accuracy did not improve from 0.94976\n",
            "\u001b[1m3106/3106\u001b[0m \u001b[32m━━━━━━━━━━━━━━━━━━━━\u001b[0m\u001b[37m\u001b[0m \u001b[1m264s\u001b[0m 63ms/step - accuracy: 0.9336 - loss: 0.1786 - val_accuracy: 0.9493 - val_loss: 0.1404\n",
            "Epoch 18/30\n",
            "\u001b[1m3105/3106\u001b[0m \u001b[32m━━━━━━━━━━━━━━━━━━━\u001b[0m\u001b[37m━\u001b[0m \u001b[1m0s\u001b[0m 52ms/step - accuracy: 0.9312 - loss: 0.1846\n",
            "Epoch 18: val_accuracy did not improve from 0.94976\n",
            "\u001b[1m3106/3106\u001b[0m \u001b[32m━━━━━━━━━━━━━━━━━━━━\u001b[0m\u001b[37m\u001b[0m \u001b[1m221s\u001b[0m 64ms/step - accuracy: 0.9312 - loss: 0.1846 - val_accuracy: 0.9493 - val_loss: 0.1422\n",
            "Epoch 18: early stopping\n",
            "Restoring model weights from the end of the best epoch: 14.\n"
          ]
        }
      ]
    },
    {
      "cell_type": "code",
      "source": [
        "import matplotlib.pyplot as plt\n",
        "\n",
        "# Function to plot training and validation metrics\n",
        "def plot_training_history(history):\n",
        "    acc = history.history['accuracy']\n",
        "    val_acc = history.history['val_accuracy']\n",
        "    loss = history.history['loss']\n",
        "    val_loss = history.history['val_loss']\n",
        "    epochs = range(1, len(acc) + 1)\n",
        "\n",
        "    plt.figure(figsize=(14, 5))\n",
        "\n",
        "    # Accuracy plot\n",
        "    plt.subplot(1, 2, 1)\n",
        "    plt.plot(epochs, acc, 'bo-', label='Training Accuracy')\n",
        "    plt.plot(epochs, val_acc, 'go-', label='Validation Accuracy')\n",
        "    plt.title('Training and Validation Accuracy')\n",
        "    plt.xlabel('Epochs')\n",
        "    plt.ylabel('Accuracy')\n",
        "    plt.legend()\n",
        "    plt.grid(True)\n",
        "\n",
        "    # Loss plot\n",
        "    plt.subplot(1, 2, 2)\n",
        "    plt.plot(epochs, loss, 'bo-', label='Training Loss')\n",
        "    plt.plot(epochs, val_loss, 'go-', label='Validation Loss')\n",
        "    plt.title('Training and Validation Loss')\n",
        "    plt.xlabel('Epochs')\n",
        "    plt.ylabel('Loss')\n",
        "    plt.legend()\n",
        "    plt.grid(True)\n",
        "\n",
        "    plt.tight_layout()\n",
        "    plt.show()\n",
        "\n",
        "plot_training_history(history)\n"
      ],
      "metadata": {
        "id": "wXCB62QM4Hry",
        "colab": {
          "base_uri": "https://localhost:8080/",
          "height": 320
        },
        "outputId": "946bdfa8-dedb-405c-f760-1b71840fc5eb"
      },
      "execution_count": null,
      "outputs": [
        {
          "output_type": "display_data",
          "data": {
            "text/plain": [
              "<Figure size 1400x500 with 2 Axes>"
            ],
            "image/png": "[encoded data removed]"
          },
          "metadata": {}
        }
      ]
    },
    {
      "cell_type": "code",
      "source": [],
      "metadata": {
        "id": "-5jpsgvkrC-j"
      },
      "execution_count": null,
      "outputs": []
    }
  ]
}